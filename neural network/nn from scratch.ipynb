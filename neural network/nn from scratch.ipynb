{
 "cells": [
  {
   "cell_type": "code",
   "execution_count": 1,
   "id": "3362ff0e-969b-43cc-9334-2b8c2ce1ffd7",
   "metadata": {},
   "outputs": [],
   "source": [
    "import numpy as np\n",
    "import tensorflow as tf\n",
    "from tensorflow import keras\n",
    "import pandas as pd\n",
    "from matplotlib import pyplot as plt\n",
    "%matplotlib inline"
   ]
  },
  {
   "cell_type": "code",
   "execution_count": 2,
   "id": "9845328c-4fb8-459d-982e-b3326391b6e7",
   "metadata": {},
   "outputs": [
    {
     "data": {
      "text/html": [
       "<div>\n",
       "<style scoped>\n",
       "    .dataframe tbody tr th:only-of-type {\n",
       "        vertical-align: middle;\n",
       "    }\n",
       "\n",
       "    .dataframe tbody tr th {\n",
       "        vertical-align: top;\n",
       "    }\n",
       "\n",
       "    .dataframe thead th {\n",
       "        text-align: right;\n",
       "    }\n",
       "</style>\n",
       "<table border=\"1\" class=\"dataframe\">\n",
       "  <thead>\n",
       "    <tr style=\"text-align: right;\">\n",
       "      <th></th>\n",
       "      <th>age</th>\n",
       "      <th>affordibility</th>\n",
       "      <th>bought_insurance</th>\n",
       "    </tr>\n",
       "  </thead>\n",
       "  <tbody>\n",
       "    <tr>\n",
       "      <th>0</th>\n",
       "      <td>22</td>\n",
       "      <td>1</td>\n",
       "      <td>0</td>\n",
       "    </tr>\n",
       "    <tr>\n",
       "      <th>1</th>\n",
       "      <td>25</td>\n",
       "      <td>0</td>\n",
       "      <td>0</td>\n",
       "    </tr>\n",
       "    <tr>\n",
       "      <th>2</th>\n",
       "      <td>47</td>\n",
       "      <td>1</td>\n",
       "      <td>1</td>\n",
       "    </tr>\n",
       "    <tr>\n",
       "      <th>3</th>\n",
       "      <td>52</td>\n",
       "      <td>0</td>\n",
       "      <td>0</td>\n",
       "    </tr>\n",
       "    <tr>\n",
       "      <th>4</th>\n",
       "      <td>46</td>\n",
       "      <td>1</td>\n",
       "      <td>1</td>\n",
       "    </tr>\n",
       "  </tbody>\n",
       "</table>\n",
       "</div>"
      ],
      "text/plain": [
       "   age  affordibility  bought_insurance\n",
       "0   22              1                 0\n",
       "1   25              0                 0\n",
       "2   47              1                 1\n",
       "3   52              0                 0\n",
       "4   46              1                 1"
      ]
     },
     "execution_count": 2,
     "metadata": {},
     "output_type": "execute_result"
    }
   ],
   "source": [
    "df = pd.read_csv(\"insurance_data (1).csv\")\n",
    "df.head()"
   ]
  },
  {
   "cell_type": "code",
   "execution_count": 5,
   "id": "26b3f19b-eb95-4932-a358-104072ab4d91",
   "metadata": {},
   "outputs": [],
   "source": [
    "from sklearn.model_selection import train_test_split\n",
    "X_train, X_test, y_train, y_test = train_test_split(df[['age','affordibility']],df.bought_insurance,test_size=0.2, random_state=25)"
   ]
  },
  {
   "cell_type": "code",
   "execution_count": 7,
   "id": "963bd458-8bf9-4e92-bd7e-83a2c8efa33d",
   "metadata": {},
   "outputs": [],
   "source": [
    "X_train_scaled = X_train.copy()\n",
    "X_train_scaled['age'] = X_train_scaled['age'] / 100\n",
    "\n",
    "X_test_scaled = X_test.copy()\n",
    "X_test_scaled['age'] = X_test_scaled['age'] / 100"
   ]
  },
  {
   "cell_type": "markdown",
   "id": "08457eb2-6b9c-4f37-919b-ab1b9075b59e",
   "metadata": {},
   "source": [
    "Model Building: First build a model in keras/tensorflow and see what weights and bias values it comes up with. We will than try to reproduce same weights and bias in our plain python implementation of gradient descent. Below is the architecture of our simple neural network"
   ]
  },
  {
   "cell_type": "code",
   "execution_count": 18,
   "id": "00f540a0-4795-4815-a4ef-1aeac3f0f169",
   "metadata": {},
   "outputs": [],
   "source": [
    "class myNN:\n",
    "    def __init__(self):\n",
    "        self.w1 = 1 \n",
    "        self.w2 = 1\n",
    "        self.bias = 0\n",
    "        \n",
    "    def fit(self, X, y, epochs, loss_thresold):\n",
    "        self.w1, self.w2, self.bias = self.gradient_descent(X['age'],X['affordibility'],y, epochs, loss_thresold)\n",
    "        print(f\"Final weights and bias: w1: {self.w1}, w2: {self.w2}, bias: {self.bias}\")\n",
    "        \n",
    "    def predict(self, X_test):\n",
    "        weighted_sum = self.w1*X_test['age'] + self.w2*X_test['affordibility'] + self.bias\n",
    "        return sigmoid_numpy(weighted_sum)\n",
    "\n",
    "    def gradient_descent(self, age,affordability, y_true, epochs, loss_thresold):\n",
    "        w1 = w2 = 1\n",
    "        bias = 0\n",
    "        rate = 0.5\n",
    "        n = len(age)\n",
    "        for i in range(epochs):\n",
    "            weighted_sum = w1 * age + w2 * affordability + bias\n",
    "            y_predicted = sigmoid_numpy(weighted_sum)\n",
    "            loss = log_loss(y_true, y_predicted)\n",
    "            \n",
    "            w1d = (1/n)*np.dot(np.transpose(age),(y_predicted-y_true)) \n",
    "            w2d = (1/n)*np.dot(np.transpose(affordability),(y_predicted-y_true)) \n",
    "\n",
    "            bias_d = np.mean(y_predicted-y_true)\n",
    "            w1 = w1 - rate * w1d\n",
    "            w2 = w2 - rate * w2d\n",
    "            bias = bias - rate * bias_d\n",
    "            \n",
    "            if i%50==0:\n",
    "                print (f'Epoch:{i}, w1:{w1}, w2:{w2}, bias:{bias}, loss:{loss}')\n",
    "            \n",
    "            if loss<=loss_thresold:\n",
    "                print (f'Epoch:{i}, w1:{w1}, w2:{w2}, bias:{bias}, loss:{loss}')\n",
    "                break\n",
    "        return w1, w2, bias"
   ]
  },
  {
   "cell_type": "code",
   "execution_count": 20,
   "id": "9ae8080c-33af-44c0-b3c7-c73a382f0b41",
   "metadata": {},
   "outputs": [
    {
     "ename": "NameError",
     "evalue": "name 'sigmoid_numpy' is not defined",
     "output_type": "error",
     "traceback": [
      "\u001b[1;31m---------------------------------------------------------------------------\u001b[0m",
      "\u001b[1;31mNameError\u001b[0m                                 Traceback (most recent call last)",
      "Cell \u001b[1;32mIn[20], line 2\u001b[0m\n\u001b[0;32m      1\u001b[0m customModel \u001b[38;5;241m=\u001b[39m myNN()\n\u001b[1;32m----> 2\u001b[0m customModel\u001b[38;5;241m.\u001b[39mfit(X_train_scaled, y_train, epochs\u001b[38;5;241m=\u001b[39m\u001b[38;5;241m8000\u001b[39m, loss_thresold\u001b[38;5;241m=\u001b[39m\u001b[38;5;241m0.4631\u001b[39m)\n",
      "Cell \u001b[1;32mIn[18], line 8\u001b[0m, in \u001b[0;36mmyNN.fit\u001b[1;34m(self, X, y, epochs, loss_thresold)\u001b[0m\n\u001b[0;32m      7\u001b[0m \u001b[38;5;28;01mdef\u001b[39;00m \u001b[38;5;21mfit\u001b[39m(\u001b[38;5;28mself\u001b[39m, X, y, epochs, loss_thresold):\n\u001b[1;32m----> 8\u001b[0m     \u001b[38;5;28mself\u001b[39m\u001b[38;5;241m.\u001b[39mw1, \u001b[38;5;28mself\u001b[39m\u001b[38;5;241m.\u001b[39mw2, \u001b[38;5;28mself\u001b[39m\u001b[38;5;241m.\u001b[39mbias \u001b[38;5;241m=\u001b[39m \u001b[38;5;28mself\u001b[39m\u001b[38;5;241m.\u001b[39mgradient_descent(X[\u001b[38;5;124m'\u001b[39m\u001b[38;5;124mage\u001b[39m\u001b[38;5;124m'\u001b[39m],X[\u001b[38;5;124m'\u001b[39m\u001b[38;5;124maffordibility\u001b[39m\u001b[38;5;124m'\u001b[39m],y, epochs, loss_thresold)\n\u001b[0;32m      9\u001b[0m     \u001b[38;5;28mprint\u001b[39m(\u001b[38;5;124mf\u001b[39m\u001b[38;5;124m\"\u001b[39m\u001b[38;5;124mFinal weights and bias: w1: \u001b[39m\u001b[38;5;132;01m{\u001b[39;00m\u001b[38;5;28mself\u001b[39m\u001b[38;5;241m.\u001b[39mw1\u001b[38;5;132;01m}\u001b[39;00m\u001b[38;5;124m, w2: \u001b[39m\u001b[38;5;132;01m{\u001b[39;00m\u001b[38;5;28mself\u001b[39m\u001b[38;5;241m.\u001b[39mw2\u001b[38;5;132;01m}\u001b[39;00m\u001b[38;5;124m, bias: \u001b[39m\u001b[38;5;132;01m{\u001b[39;00m\u001b[38;5;28mself\u001b[39m\u001b[38;5;241m.\u001b[39mbias\u001b[38;5;132;01m}\u001b[39;00m\u001b[38;5;124m\"\u001b[39m)\n",
      "Cell \u001b[1;32mIn[18], line 22\u001b[0m, in \u001b[0;36mmyNN.gradient_descent\u001b[1;34m(self, age, affordability, y_true, epochs, loss_thresold)\u001b[0m\n\u001b[0;32m     20\u001b[0m \u001b[38;5;28;01mfor\u001b[39;00m i \u001b[38;5;129;01min\u001b[39;00m \u001b[38;5;28mrange\u001b[39m(epochs):\n\u001b[0;32m     21\u001b[0m     weighted_sum \u001b[38;5;241m=\u001b[39m w1 \u001b[38;5;241m*\u001b[39m age \u001b[38;5;241m+\u001b[39m w2 \u001b[38;5;241m*\u001b[39m affordability \u001b[38;5;241m+\u001b[39m bias\n\u001b[1;32m---> 22\u001b[0m     y_predicted \u001b[38;5;241m=\u001b[39m sigmoid_numpy(weighted_sum)\n\u001b[0;32m     23\u001b[0m     loss \u001b[38;5;241m=\u001b[39m log_loss(y_true, y_predicted)\n\u001b[0;32m     25\u001b[0m     w1d \u001b[38;5;241m=\u001b[39m (\u001b[38;5;241m1\u001b[39m\u001b[38;5;241m/\u001b[39mn)\u001b[38;5;241m*\u001b[39mnp\u001b[38;5;241m.\u001b[39mdot(np\u001b[38;5;241m.\u001b[39mtranspose(age),(y_predicted\u001b[38;5;241m-\u001b[39my_true)) \n",
      "\u001b[1;31mNameError\u001b[0m: name 'sigmoid_numpy' is not defined"
     ]
    }
   ],
   "source": [
    "customModel = myNN()\n",
    "customModel.fit(X_train_scaled, y_train, epochs=8000, loss_thresold=0.4631)"
   ]
  },
  {
   "cell_type": "code",
   "execution_count": null,
   "id": "cb87d238-e90d-4262-a513-0db1e1a0982a",
   "metadata": {},
   "outputs": [],
   "source": []
  }
 ],
 "metadata": {
  "kernelspec": {
   "display_name": "Python 3 (ipykernel)",
   "language": "python",
   "name": "python3"
  },
  "language_info": {
   "codemirror_mode": {
    "name": "ipython",
    "version": 3
   },
   "file_extension": ".py",
   "mimetype": "text/x-python",
   "name": "python",
   "nbconvert_exporter": "python",
   "pygments_lexer": "ipython3",
   "version": "3.12.7"
  }
 },
 "nbformat": 4,
 "nbformat_minor": 5
}
